{
  "nbformat": 4,
  "nbformat_minor": 0,
  "metadata": {
    "colab": {
      "provenance": [],
      "authorship_tag": "ABX9TyOm+ztOV9WD3iMfHc5R9q8Y",
      "include_colab_link": true
    },
    "kernelspec": {
      "name": "python3",
      "display_name": "Python 3"
    },
    "language_info": {
      "name": "python"
    }
  },
  "cells": [
    {
      "cell_type": "markdown",
      "metadata": {
        "id": "view-in-github",
        "colab_type": "text"
      },
      "source": [
        "<a href=\"https://colab.research.google.com/github/Madihajavaid12345/Certura-Internship-Tasks/blob/main/Certura_Task_1_Data_Analysis.ipynb\" target=\"_parent\"><img src=\"https://colab.research.google.com/assets/colab-badge.svg\" alt=\"Open In Colab\"/></a>"
      ]
    },
    {
      "cell_type": "code",
      "execution_count": null,
      "metadata": {
        "id": "9MnulGfkWrub"
      },
      "outputs": [],
      "source": [
        "# Import libraries\n",
        "import pandas as pd   # For data handling\n",
        "import matplotlib.pyplot as plt  # For graphs\n"
      ]
    },
    {
      "cell_type": "code",
      "source": [
        "# Load Titanic dataset dirctly from the internet\n",
        "url = \"https://raw.githubusercontent.com/datasciencedojo/datasets/master/titanic.csv\""
      ],
      "metadata": {
        "id": "Ur7PmTE0i91d"
      },
      "execution_count": null,
      "outputs": []
    },
    {
      "cell_type": "code",
      "source": [
        "data = pd.read_csv(url)"
      ],
      "metadata": {
        "id": "N7vKYoI3jRX0"
      },
      "execution_count": null,
      "outputs": []
    },
    {
      "cell_type": "code",
      "source": [
        "# see first 5 rows of data:\n",
        "print(data.head())"
      ],
      "metadata": {
        "colab": {
          "base_uri": "https://localhost:8080/"
        },
        "id": "P7HSq19EjfIt",
        "outputId": "1207c2c2-7158-47da-dea0-1fcc03f78837"
      },
      "execution_count": null,
      "outputs": [
        {
          "output_type": "stream",
          "name": "stdout",
          "text": [
            "   PassengerId  Survived  Pclass  \\\n",
            "0            1         0       3   \n",
            "1            2         1       1   \n",
            "2            3         1       3   \n",
            "3            4         1       1   \n",
            "4            5         0       3   \n",
            "\n",
            "                                                Name     Sex   Age  SibSp  \\\n",
            "0                            Braund, Mr. Owen Harris    male  22.0      1   \n",
            "1  Cumings, Mrs. John Bradley (Florence Briggs Th...  female  38.0      1   \n",
            "2                             Heikkinen, Miss. Laina  female  26.0      0   \n",
            "3       Futrelle, Mrs. Jacques Heath (Lily May Peel)  female  35.0      1   \n",
            "4                           Allen, Mr. William Henry    male  35.0      0   \n",
            "\n",
            "   Parch            Ticket     Fare Cabin Embarked  \n",
            "0      0         A/5 21171   7.2500   NaN        S  \n",
            "1      0          PC 17599  71.2833   C85        C  \n",
            "2      0  STON/O2. 3101282   7.9250   NaN        S  \n",
            "3      0            113803  53.1000  C123        S  \n",
            "4      0            373450   8.0500   NaN        S  \n"
          ]
        }
      ]
    },
    {
      "cell_type": "code",
      "source": [
        "# Additional statistics (to fulfill \"etc.\")\n",
        "print(\"\\nMinimum age of passengers:\", data[\"Age\"].min())\n",
        "print(\"Maximum age of passengers:\", data[\"Age\"].max())\n",
        "print(\"Standard deviation of age:\", data[\"Age\"].std())\n",
        "\n",
        "# Gender count\n",
        "print(\"\\nNumber of male and female passengers:\")\n",
        "print(data[\"Sex\"].value_counts())\n",
        "\n",
        "# Passenger class distribution\n",
        "print(\"\\nPassenger class distribution:\")\n",
        "print(data[\"Pclass\"].value_counts())\n",
        "\n",
        "# Count of survivors and non-survivors\n",
        "print(\"\\nSurvivor vs Non-survivor count:\")\n",
        "print(data[\"Survived\"].value_counts())\n"
      ],
      "metadata": {
        "colab": {
          "base_uri": "https://localhost:8080/"
        },
        "id": "iU7UWywijyqU",
        "outputId": "9074f7e2-509a-45f8-a9fe-51647b7184c4"
      },
      "execution_count": null,
      "outputs": [
        {
          "output_type": "stream",
          "name": "stdout",
          "text": [
            "\n",
            "Minimum age of passengers: 0.42\n",
            "Maximum age of passengers: 80.0\n",
            "Standard deviation of age: 14.526497332334044\n",
            "\n",
            "Number of male and female passengers:\n",
            "Sex\n",
            "male      577\n",
            "female    314\n",
            "Name: count, dtype: int64\n",
            "\n",
            "Passenger class distribution:\n",
            "Pclass\n",
            "3    491\n",
            "1    216\n",
            "2    184\n",
            "Name: count, dtype: int64\n",
            "\n",
            "Survivor vs Non-survivor count:\n",
            "Survived\n",
            "0    549\n",
            "1    342\n",
            "Name: count, dtype: int64\n"
          ]
        }
      ]
    },
    {
      "cell_type": "code",
      "source": [
        "# Visulize survival rate by gender:\n",
        "data.groupby(\"Sex\")[\"Survived\"].mean().plot(kind=\"bar\", color=[\"skyblue\", \"lightgreen\"])\n",
        "plt.title(\"Survival Rate by Gender\")\n",
        "plt.ylabel(\"Survival Rate\")\n",
        "plt.ylabel(\"Gender\")\n",
        "plt.xticks(rotation=0)\n",
        "plt.show()"
      ],
      "metadata": {
        "colab": {
          "base_uri": "https://localhost:8080/",
          "height": 472
        },
        "id": "-U7ZQG32kRpb",
        "outputId": "71d13005-9b5f-46b3-a62c-3c9298168823"
      },
      "execution_count": null,
      "outputs": [
        {
          "output_type": "display_data",
          "data": {
            "text/plain": [
              "<Figure size 640x480 with 1 Axes>"
            ],
            "image/png": "[encoded data removed]"
          },
          "metadata": {}
        }
      ]
    }
  ]
}